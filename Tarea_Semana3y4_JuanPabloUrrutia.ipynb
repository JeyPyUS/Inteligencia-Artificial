{
  "nbformat": 4,
  "nbformat_minor": 0,
  "metadata": {
    "colab": {
      "name": "Tarea_Semana3y4_JuanPabloUrrutia",
      "provenance": []
    },
    "kernelspec": {
      "name": "python3",
      "display_name": "Python 3"
    },
    "language_info": {
      "name": "python"
    }
  },
  "cells": [
    {
      "cell_type": "markdown",
      "metadata": {
        "id": "RgsTEhRlF39V"
      },
      "source": [
        "## ORO!!! Forecasting"
      ]
    },
    {
      "cell_type": "code",
      "metadata": {
        "id": "N7tyhnsLGA30"
      },
      "source": [
        "## Importando las librerías\n",
        "import pandas as pd\n",
        "import numpy as np\n",
        "from mpl_toolkits import mplot3d\n",
        "import matplotlib.pyplot as plt"
      ],
      "execution_count": 1,
      "outputs": []
    },
    {
      "cell_type": "code",
      "metadata": {
        "colab": {
          "base_uri": "https://localhost:8080/",
          "height": 314
        },
        "id": "Opw7aPwUGEoV",
        "outputId": "110d54fd-5548-41f1-bc0f-e40b660e288c"
      },
      "source": [
        "dataframeGold = pd.read_csv('gold_price_data.csv')\n",
        "print(dataframeGold.columns)\n",
        "dataframeGold.describe()"
      ],
      "execution_count": 3,
      "outputs": [
        {
          "output_type": "stream",
          "text": [
            "Index(['Date', 'Value'], dtype='object')\n"
          ],
          "name": "stdout"
        },
        {
          "output_type": "execute_result",
          "data": {
            "text/html": [
              "<div>\n",
              "<style scoped>\n",
              "    .dataframe tbody tr th:only-of-type {\n",
              "        vertical-align: middle;\n",
              "    }\n",
              "\n",
              "    .dataframe tbody tr th {\n",
              "        vertical-align: top;\n",
              "    }\n",
              "\n",
              "    .dataframe thead th {\n",
              "        text-align: right;\n",
              "    }\n",
              "</style>\n",
              "<table border=\"1\" class=\"dataframe\">\n",
              "  <thead>\n",
              "    <tr style=\"text-align: right;\">\n",
              "      <th></th>\n",
              "      <th>Value</th>\n",
              "    </tr>\n",
              "  </thead>\n",
              "  <tbody>\n",
              "    <tr>\n",
              "      <th>count</th>\n",
              "      <td>10787.000000</td>\n",
              "    </tr>\n",
              "    <tr>\n",
              "      <th>mean</th>\n",
              "      <td>653.596634</td>\n",
              "    </tr>\n",
              "    <tr>\n",
              "      <th>std</th>\n",
              "      <td>434.030848</td>\n",
              "    </tr>\n",
              "    <tr>\n",
              "      <th>min</th>\n",
              "      <td>35.100000</td>\n",
              "    </tr>\n",
              "    <tr>\n",
              "      <th>25%</th>\n",
              "      <td>349.200000</td>\n",
              "    </tr>\n",
              "    <tr>\n",
              "      <th>50%</th>\n",
              "      <td>409.350000</td>\n",
              "    </tr>\n",
              "    <tr>\n",
              "      <th>75%</th>\n",
              "      <td>1061.625000</td>\n",
              "    </tr>\n",
              "    <tr>\n",
              "      <th>max</th>\n",
              "      <td>1895.000000</td>\n",
              "    </tr>\n",
              "  </tbody>\n",
              "</table>\n",
              "</div>"
            ],
            "text/plain": [
              "              Value\n",
              "count  10787.000000\n",
              "mean     653.596634\n",
              "std      434.030848\n",
              "min       35.100000\n",
              "25%      349.200000\n",
              "50%      409.350000\n",
              "75%     1061.625000\n",
              "max     1895.000000"
            ]
          },
          "metadata": {},
          "execution_count": 3
        }
      ]
    },
    {
      "cell_type": "code",
      "metadata": {
        "colab": {
          "base_uri": "https://localhost:8080/",
          "height": 410
        },
        "id": "e7n6GXFSHb5q",
        "outputId": "b3d27476-14c6-42cd-ca19-298ded06b80d"
      },
      "source": [
        "print(dataframeGold.dtypes)\n",
        "dataframeGold.head(10)"
      ],
      "execution_count": 4,
      "outputs": [
        {
          "output_type": "stream",
          "text": [
            "Date      object\n",
            "Value    float64\n",
            "dtype: object\n"
          ],
          "name": "stdout"
        },
        {
          "output_type": "execute_result",
          "data": {
            "text/html": [
              "<div>\n",
              "<style scoped>\n",
              "    .dataframe tbody tr th:only-of-type {\n",
              "        vertical-align: middle;\n",
              "    }\n",
              "\n",
              "    .dataframe tbody tr th {\n",
              "        vertical-align: top;\n",
              "    }\n",
              "\n",
              "    .dataframe thead th {\n",
              "        text-align: right;\n",
              "    }\n",
              "</style>\n",
              "<table border=\"1\" class=\"dataframe\">\n",
              "  <thead>\n",
              "    <tr style=\"text-align: right;\">\n",
              "      <th></th>\n",
              "      <th>Date</th>\n",
              "      <th>Value</th>\n",
              "    </tr>\n",
              "  </thead>\n",
              "  <tbody>\n",
              "    <tr>\n",
              "      <th>0</th>\n",
              "      <td>1970-01-01</td>\n",
              "      <td>35.2</td>\n",
              "    </tr>\n",
              "    <tr>\n",
              "      <th>1</th>\n",
              "      <td>1970-04-01</td>\n",
              "      <td>35.1</td>\n",
              "    </tr>\n",
              "    <tr>\n",
              "      <th>2</th>\n",
              "      <td>1970-07-01</td>\n",
              "      <td>35.4</td>\n",
              "    </tr>\n",
              "    <tr>\n",
              "      <th>3</th>\n",
              "      <td>1970-10-01</td>\n",
              "      <td>36.2</td>\n",
              "    </tr>\n",
              "    <tr>\n",
              "      <th>4</th>\n",
              "      <td>1971-01-01</td>\n",
              "      <td>37.4</td>\n",
              "    </tr>\n",
              "    <tr>\n",
              "      <th>5</th>\n",
              "      <td>1971-04-01</td>\n",
              "      <td>38.9</td>\n",
              "    </tr>\n",
              "    <tr>\n",
              "      <th>6</th>\n",
              "      <td>1971-07-01</td>\n",
              "      <td>40.1</td>\n",
              "    </tr>\n",
              "    <tr>\n",
              "      <th>7</th>\n",
              "      <td>1971-10-01</td>\n",
              "      <td>42.0</td>\n",
              "    </tr>\n",
              "    <tr>\n",
              "      <th>8</th>\n",
              "      <td>1972-01-03</td>\n",
              "      <td>43.5</td>\n",
              "    </tr>\n",
              "    <tr>\n",
              "      <th>9</th>\n",
              "      <td>1972-04-03</td>\n",
              "      <td>48.3</td>\n",
              "    </tr>\n",
              "  </tbody>\n",
              "</table>\n",
              "</div>"
            ],
            "text/plain": [
              "         Date  Value\n",
              "0  1970-01-01   35.2\n",
              "1  1970-04-01   35.1\n",
              "2  1970-07-01   35.4\n",
              "3  1970-10-01   36.2\n",
              "4  1971-01-01   37.4\n",
              "5  1971-04-01   38.9\n",
              "6  1971-07-01   40.1\n",
              "7  1971-10-01   42.0\n",
              "8  1972-01-03   43.5\n",
              "9  1972-04-03   48.3"
            ]
          },
          "metadata": {},
          "execution_count": 4
        }
      ]
    },
    {
      "cell_type": "code",
      "metadata": {
        "colab": {
          "base_uri": "https://localhost:8080/"
        },
        "id": "k0kuvBqqIDr9",
        "outputId": "0f3fd056-e34e-4c3b-d67e-bc63d7da56fc"
      },
      "source": [
        "etiqueta = np.array(dataframeGold['Value'])[2:]\n",
        "car_m1 = np.array(dataframeGold['Value'])[1:-1]\n",
        "car_m2 = np.array(dataframeGold['Value'])[:-2]\n",
        "print(len(etiqueta))\n",
        "print(len(car_m1))\n",
        "print(len(car_m2))"
      ],
      "execution_count": 5,
      "outputs": [
        {
          "output_type": "stream",
          "text": [
            "10785\n",
            "10785\n",
            "10785\n"
          ],
          "name": "stdout"
        }
      ]
    },
    {
      "cell_type": "code",
      "metadata": {
        "id": "C_kbWkKeJV0p"
      },
      "source": [
        "## Agrupando los datos en un único Dataframe y exportándolo a un archivo CSV\n",
        "dataset = pd.DataFrame({'Carac menos 2':car_m2, 'Carac menos 1':car_m1, 'Etiqueta':etiqueta})\n",
        "dataset.to_csv('goldPriceArranged.csv')"
      ],
      "execution_count": 6,
      "outputs": []
    },
    {
      "cell_type": "code",
      "metadata": {
        "colab": {
          "base_uri": "https://localhost:8080/"
        },
        "id": "g0aUVperRvwL",
        "outputId": "dafe4ce8-e867-49f5-bd47-86dccfc4d67c"
      },
      "source": [
        "## Pasando los datos a una matriz de tipo numpy\n",
        "matrizDatos = dataset.to_numpy()\n",
        "print(matrizDatos)"
      ],
      "execution_count": 8,
      "outputs": [
        {
          "output_type": "stream",
          "text": [
            "[[  35.2    35.1    35.4 ]\n",
            " [  35.1    35.4    36.2 ]\n",
            " [  35.4    36.2    37.4 ]\n",
            " ...\n",
            " [1672.5  1655.7  1653.75]\n",
            " [1655.7  1653.75 1570.7 ]\n",
            " [1653.75 1570.7  1562.8 ]]\n"
          ],
          "name": "stdout"
        }
      ]
    },
    {
      "cell_type": "code",
      "metadata": {
        "id": "2UtndfNSWMTK"
      },
      "source": [
        "def funcCosto(arr_1, arr_2):\n",
        "  J = np.power(arr_1-arr_2,2)\n",
        "  return np.sum(J)/(2*len(J))"
      ],
      "execution_count": 9,
      "outputs": []
    },
    {
      "cell_type": "code",
      "metadata": {
        "colab": {
          "base_uri": "https://localhost:8080/"
        },
        "id": "agHovgeTSolx",
        "outputId": "e875db79-d47d-46ae-b7b4-08230ea89851"
      },
      "source": [
        "## Pasos GridSearch\n",
        "#  h(x) = T0*x0 + T1*x1\n",
        "\n",
        "# 1. Valores a T0 a T1\n",
        "dict_resultados = dict()\n",
        "for T0 in np.arange(0,2,1/200):\n",
        "  for T1 in np.arange(0,2,1/200):\n",
        "\n",
        "#   2. Encuentras h(x)\n",
        "    h_x = T0*matrizDatos[:,0] + T1*matrizDatos[:,1]\n",
        "\n",
        "#   3. Evalúar la función de costo\n",
        "    dict_resultados[(T0,T1)]=funcCosto(h_x,matrizDatos[:,2])\n",
        "    # print(dict_resultados)\n",
        "# 4. Encontrar el menor\n",
        "parameters = list(dict_resultados.keys())\n",
        "# print(parameters)\n",
        "costValues = np.array(list(dict_resultados.values()))\n",
        "# print(costValues)\n",
        "indexMinCost = costValues.argmin()\n",
        "print(\"Posisión en el vector de los parámetros que general el mínimo:\", indexMinCost)\n",
        "bestParameters = parameters[indexMinCost]\n",
        "print(\"Los mejores parámetros son:\",bestParameters,\"donde la función de costo retornó:\", costValues[indexMinCost])"
      ],
      "execution_count": 43,
      "outputs": [
        {
          "output_type": "stream",
          "text": [
            "Posisión en el vector de los parámetros que general el mínimo: 998\n",
            "Los mejores parámetros son: (0.01, 0.99) donde la función de costo retornó:  40.80340153266389\n"
          ],
          "name": "stdout"
        }
      ]
    },
    {
      "cell_type": "code",
      "metadata": {
        "colab": {
          "base_uri": "https://localhost:8080/",
          "height": 281
        },
        "id": "lmWVWnp1aWg8",
        "outputId": "46f828b1-6f80-4b79-8f8a-3253f16beb19"
      },
      "source": [
        "plt.scatter(matrizDatos[:,0], matrizDatos[:,1], matrizDatos[:,2])\n",
        "x = np.arange(matrizDatos[:,0].min(),matrizDatos[:,0].max(),(matrizDatos[:,0].max()-matrizDatos[:,0].min())/1000)\n",
        "plt.plot(x,bestParameters[0]+bestParameters[1]*x,'r-')\n",
        "plt.title(\"Muestras e Hipótesis\")\n",
        "plt.show()"
      ],
      "execution_count": 39,
      "outputs": [
        {
          "output_type": "display_data",
          "data": {
            "image/png": "[encoded data removed]",
            "text/plain": [
              "<Figure size 432x288 with 1 Axes>"
            ]
          },
          "metadata": {
            "needs_background": "light"
          }
        }
      ]
    },
    {
      "cell_type": "code",
      "metadata": {
        "colab": {
          "base_uri": "https://localhost:8080/",
          "height": 248
        },
        "id": "zg3UEWF2ccb8",
        "outputId": "2a3d7ad5-c3b7-4dd1-e564-27a4ccfc8f3e"
      },
      "source": [
        "fig = plt.figure()\n",
        "ax = plt.axes(projection='3d')\n",
        "ax.scatter3D([p[0] for p in parameters],[p[1] for p in parameters],list(dict_resultados.values()))\n",
        "ax.set_xlabel('Teta 0')\n",
        "ax.set_ylabel('Teta 1')\n",
        "ax.set_zlabel('Cost');"
      ],
      "execution_count": 40,
      "outputs": [
        {
          "output_type": "display_data",
          "data": {
            "image/png": "[encoded data removed]",
            "text/plain": [
              "<Figure size 432x288 with 1 Axes>"
            ]
          },
          "metadata": {
            "needs_background": "light"
          }
        }
      ]
    }
  ]
}