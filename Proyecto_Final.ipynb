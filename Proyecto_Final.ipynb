{
  "nbformat": 4,
  "nbformat_minor": 0,
  "metadata": {
    "colab": {
      "name": "Proyecto_Final.ipynb",
      "provenance": []
    },
    "kernelspec": {
      "name": "python3",
      "display_name": "Python 3"
    },
    "language_info": {
      "name": "python"
    }
  },
  "cells": [
    {
      "cell_type": "markdown",
      "metadata": {
        "id": "V34z6hl1aHyK"
      },
      "source": [
        "Proyecto Final\n",
        "\n",
        "Inteligencia Artificial\n",
        "\n",
        "Facultad de Ingeniería\n",
        "\n",
        "Pontificia Universidad Javeriana\n",
        "\n",
        "Juan Pablo Urrutia Sánchez\n",
        "\n",
        "⚛"
      ]
    },
    {
      "cell_type": "code",
      "metadata": {
        "id": "34Uck7NsZqrW"
      },
      "source": [
        "# Librerías empleadas\n",
        "import pandas as pd\n",
        "import numpy as np\n",
        "import seaborn as sns\n",
        "import matplotlib.pyplot as plt\n",
        "from pandas.plotting import parallel_coordinates\n",
        "from sklearn.model_selection import train_test_split\n",
        "from sklearn.tree import DecisionTreeClassifier, plot_tree\n",
        "from sklearn import metrics\n",
        "from sklearn import model_selection\n",
        "from sklearn import naive_bayes"
      ],
      "execution_count": 58,
      "outputs": []
    },
    {
      "cell_type": "code",
      "metadata": {
        "id": "mI3h22XRPh52"
      },
      "source": [
        "# Declaración del archivo a emplear y vectores a utilizar\n",
        "fn = [\"bmi\", \"Age\", \"asa_status\", \"baseline_cancer\", \"baseline_charlson\", \"baseline_cvd\", \"baseline_dementia\", \"baseline_diabetes\", \"baseline_digestive\", \"baseline_osteoart\", \"baseline_psych\", \"baseline_pulmonary\", \"gender\", \"month\",\"complication\"]\n",
        "cn = [\"Sí hay riesgo\", \"No hay riesgo\"]\n",
        "data = pd.read_csv('Surgical-deepnet2.csv')"
      ],
      "execution_count": 59,
      "outputs": []
    },
    {
      "cell_type": "code",
      "metadata": {
        "id": "OhTATmEYSUFP"
      },
      "source": [
        "# Se divide el dataset, se toma el 60% para entrenamiento y el 40% (test_size = 0.4) para validación del sistema.\n",
        "train, test = train_test_split(data, test_size = 0.4, stratify = data['complication'], random_state = 42)"
      ],
      "execution_count": 60,
      "outputs": []
    },
    {
      "cell_type": "code",
      "metadata": {
        "id": "OumzWD0SSWs2"
      },
      "source": [
        "# Gráficas que indican que tan relevantes pueden ser las características del dataset\n",
        "# sns.pairplot(train, hue=\"complication\", height = 2, palette = 'colorblind');"
      ],
      "execution_count": 61,
      "outputs": []
    },
    {
      "cell_type": "code",
      "metadata": {
        "id": "xPQoc6GzSsAC"
      },
      "source": [
        "# Se sepraran las características de las etiquetas en ambas matrices (entrenamiento y validación)\n",
        "X_train = train[['bmi','Age','asa_status','baseline_cancer','baseline_charlson','baseline_cvd','baseline_dementia','baseline_diabetes','baseline_digestive','baseline_osteoart','baseline_psych','baseline_pulmonary','gender','month']]\n",
        "y_train = train.complication\n",
        "X_test = test[['bmi','Age','asa_status','baseline_cancer','baseline_charlson','baseline_cvd','baseline_dementia','baseline_diabetes','baseline_digestive','baseline_osteoart','baseline_psych','baseline_pulmonary','gender','month']]\n",
        "y_test = test.complication"
      ],
      "execution_count": 62,
      "outputs": []
    },
    {
      "cell_type": "code",
      "metadata": {
        "id": "DxDD0YdLXAj8"
      },
      "source": [
        "# Se aplica el árbol de decisión con una profundidad de 3 y un estado de aleatoriedad de 1\n",
        "\n",
        "clasif = DecisionTreeClassifier(max_depth = 3, random_state = 1)\n",
        "clasif.fit(X_train,y_train)\n",
        "prediction = clasif.predict(X_test)"
      ],
      "execution_count": 63,
      "outputs": []
    },
    {
      "cell_type": "code",
      "metadata": {
        "id": "kpUrOrrdZKD8"
      },
      "source": [
        "# Descomentar para visualizar el esquemático del árbol de decisión planteado inicialmente.\n",
        "\n",
        "# plt.figure(figsize = (40,38))\n",
        "# plot_tree(clasif, feature_names = fn, class_names = cn, filled = True, proportion = True);"
      ],
      "execution_count": 64,
      "outputs": []
    },
    {
      "cell_type": "code",
      "metadata": {
        "colab": {
          "base_uri": "https://localhost:8080/",
          "height": 472
        },
        "id": "2RY2ofFIllIO",
        "outputId": "93c60a50-feae-4ca4-e0fb-baec71b39abc"
      },
      "source": [
        "print('El accuracy del árbol de decisión es',\"{:.3f}\".format(metrics.accuracy_score(prediction,y_test)))\n",
        "accuracy_i = metrics.accuracy_score(prediction,y_test)\n",
        "print()\n",
        "print('El F1 del árbol de decisión es',\"{:.3f}\".format(metrics.f1_score(prediction,y_test,average='macro')))\n",
        "f1_i = metrics.f1_score(prediction,y_test,average='macro')\n",
        "print()\n",
        "print('Resultado de la validación cruzada del árbol de decisión')\n",
        "cv_i = model_selection.cross_val_score(clasif, X_test, y_test, cv=5)\n",
        "print(cv_i)\n",
        "print()\n",
        "disp = metrics.plot_confusion_matrix(clasif, X_test, y_test, display_labels=cn, cmap=plt.cm.magma_r, normalize='all')\n",
        "disp.ax_.set_title('Matriz de Confusión');"
      ],
      "execution_count": 66,
      "outputs": [
        {
          "output_type": "stream",
          "name": "stdout",
          "text": [
            "El accuracy del árbol de decisión es 0.799\n",
            "\n",
            "El F1 del árbol de decisión es 0.610\n",
            "\n",
            "Resultado de la validación cruzada del árbol de decisión\n",
            "[0.79590094 0.80017079 0.78906917 0.78394535 0.8025641 ]\n",
            "\n"
          ]
        },
        {
          "output_type": "stream",
          "name": "stderr",
          "text": [
            "/usr/local/lib/python3.7/dist-packages/sklearn/utils/deprecation.py:87: FutureWarning: Function plot_confusion_matrix is deprecated; Function `plot_confusion_matrix` is deprecated in 1.0 and will be removed in 1.2. Use one of the class methods: ConfusionMatrixDisplay.from_predictions or ConfusionMatrixDisplay.from_estimator.\n",
            "  warnings.warn(msg, category=FutureWarning)\n"
          ]
        },
        {
          "output_type": "display_data",
          "data": {
            "image/png": "[encoded data removed]",
            "text/plain": [
              "<Figure size 432x288 with 2 Axes>"
            ]
          },
          "metadata": {
            "needs_background": "light"
          }
        }
      ]
    },
    {
      "cell_type": "markdown",
      "metadata": {
        "id": "xeMo7M-VmkSB"
      },
      "source": [
        "A partir de aquí se realiza la iteración entre la profundidad del árbol de decisión y el porcentaje de datos que se manejan para validación del sistema."
      ]
    },
    {
      "cell_type": "code",
      "metadata": {
        "colab": {
          "base_uri": "https://localhost:8080/"
        },
        "id": "0kNQI7FSAn7m",
        "outputId": "2886a8f4-74a4-4f0b-f0ea-49a163749afc"
      },
      "source": [
        "mej_size = 0        # Mejor porcentaje de datos que se emplearán para validación del sistema\n",
        "mej_depth = 0       # Mejor profundidad del árbol de decisión\n",
        "act_precition = 0   # Mejor Accuracy (con los parámetros que se iteran)\n",
        "\n",
        "for i in range(30):   # Se itera el porcentaje de datos que se manejan para validación [1/31 : 30/31]\n",
        "  train, test = train_test_split(data, test_size = (i+1)/31, stratify = data['complication'], random_state = 42)\n",
        "  X_train = train[['bmi','Age','asa_status','baseline_cancer','baseline_charlson','baseline_cvd','baseline_dementia','baseline_diabetes','baseline_digestive','baseline_osteoart','baseline_psych','baseline_pulmonary','gender','month']]\n",
        "  y_train = train.complication\n",
        "  X_test = test[['bmi','Age','asa_status','baseline_cancer','baseline_charlson','baseline_cvd','baseline_dementia','baseline_diabetes','baseline_digestive','baseline_osteoart','baseline_psych','baseline_pulmonary','gender','month']]\n",
        "  y_test = test.complication\n",
        "\n",
        "  for j in range(30): # Se itera la profundidad del árbol de decisión\n",
        "    clasif = DecisionTreeClassifier(max_depth = j+1, random_state = 1)\n",
        "    clasif.fit(X_train,y_train)\n",
        "    prediction = clasif.predict(X_test)\n",
        "\n",
        "    if metrics.accuracy_score(prediction,y_test) >= act_precition: # Se actualizan las variables en caso de que se haya encontrado un mejor Accuracy\n",
        "      act_precition = metrics.accuracy_score(prediction,y_test)\n",
        "      mej_depth = j+1\n",
        "      mej_size = (i+1)/31\n",
        "      \n",
        "    # Descomentar la siguiente línea para ver cómo van cambiando los valores a lo largo del cálculo\n",
        "    # print('tamaño de muestras', (i+1)/31, 'profundidad', j+1, 'accuracy', \"{:.3f}\".format(metrics.accuracy_score(prediction,y_test)))\n",
        "\n",
        "print('El mejor tamaño de muestras para validación es', \"{:.3f}\".format(mej_size), ', lo que significa que el tamaño de muestras para entrenamiento es', \"{:.3f}\".format(1-mej_size))\n",
        "print()\n",
        "print('La mejor profundidad es', mej_depth)\n",
        "print()\n",
        "print('El accuracy del árbol de decisión es',\"{:.3f}\".format(act_precition))"
      ],
      "execution_count": 67,
      "outputs": [
        {
          "output_type": "stream",
          "name": "stdout",
          "text": [
            "El mejor tamaño de muestras para validación es 0.032 , lo que significa que el tamaño de muestras para entrenamiento es 0.968\n",
            "\n",
            "La mejor profundidad es 14\n",
            "\n",
            "El accuracy del árbol de decisión es 0.939\n"
          ]
        }
      ]
    },
    {
      "cell_type": "code",
      "metadata": {
        "id": "OBOWsN27O3Mz"
      },
      "source": [
        "# Se realiza, de nuevo, el cálculo del árbol de decisión con los mejores valores encontrados\n",
        "\n",
        "train, test = train_test_split(data, test_size = mej_size, stratify = data['complication'], random_state = 42)\n",
        "X_train = train[['bmi','Age','asa_status','baseline_cancer','baseline_charlson','baseline_cvd','baseline_dementia','baseline_diabetes','baseline_digestive','baseline_osteoart','baseline_psych','baseline_pulmonary','gender','month']]\n",
        "y_train = train.complication\n",
        "X_test = test[['bmi','Age','asa_status','baseline_cancer','baseline_charlson','baseline_cvd','baseline_dementia','baseline_diabetes','baseline_digestive','baseline_osteoart','baseline_psych','baseline_pulmonary','gender','month']]\n",
        "y_test = test.complication\n",
        "clasif = DecisionTreeClassifier(max_depth = mej_depth, random_state = 1)\n",
        "clasif.fit(X_train,y_train)\n",
        "prediction = clasif.predict(X_test)"
      ],
      "execution_count": 68,
      "outputs": []
    },
    {
      "cell_type": "code",
      "metadata": {
        "colab": {
          "base_uri": "https://localhost:8080/",
          "height": 507
        },
        "id": "45ass6XCqRX4",
        "outputId": "c7c75c6f-9387-4fd0-eab7-00a8f52ec8f6"
      },
      "source": [
        "# Resultados de la validación con los moejores valores enontrados para profundidad y tamaño de matriz de evaluación\n",
        "print('El accuracy del árbol de decisión es',\"{:.3f}\".format(metrics.accuracy_score(prediction,y_test)))\n",
        "accuracy_f = metrics.accuracy_score(prediction,y_test)\n",
        "print()\n",
        "print('Resultado de la validación cruzada')\n",
        "cv_f = model_selection.cross_val_score(clasif, X_test, y_test, cv=5)\n",
        "print(cv_f)\n",
        "print()\n",
        "print('El F1 del árbol de decisión es',\"{:.3f}\".format(metrics.f1_score(prediction,y_test,average='macro')))\n",
        "f1_f = metrics.f1_score(prediction,y_test,average='macro')\n",
        "print()\n",
        "print('El coeficiente de Silueta del árbol de decisión es',\"{:.4f}\".format(metrics.silhouette_score(X_test, y_test, metric='euclidean')))\n",
        "print()\n",
        "disp = metrics.plot_confusion_matrix(clasif, X_test, y_test, display_labels=cn, cmap=plt.cm.magma_r, normalize='all')\n",
        "disp.ax_.set_title('Matriz de Confusión mejorada');"
      ],
      "execution_count": 69,
      "outputs": [
        {
          "output_type": "stream",
          "name": "stdout",
          "text": [
            "El accuracy del árbol de decisión es 0.939\n",
            "\n",
            "Resultado de la validación cruzada\n",
            "[0.90526316 0.84210526 0.82105263 0.86170213 0.82978723]\n",
            "\n",
            "El F1 del árbol de decisión es 0.912\n",
            "\n",
            "El coeficiente de Silueta del árbol de decisión es -0.0007\n",
            "\n"
          ]
        },
        {
          "output_type": "stream",
          "name": "stderr",
          "text": [
            "/usr/local/lib/python3.7/dist-packages/sklearn/utils/deprecation.py:87: FutureWarning: Function plot_confusion_matrix is deprecated; Function `plot_confusion_matrix` is deprecated in 1.0 and will be removed in 1.2. Use one of the class methods: ConfusionMatrixDisplay.from_predictions or ConfusionMatrixDisplay.from_estimator.\n",
            "  warnings.warn(msg, category=FutureWarning)\n"
          ]
        },
        {
          "output_type": "display_data",
          "data": {
            "image/png": "[encoded data removed]",
            "text/plain": [
              "<Figure size 432x288 with 2 Axes>"
            ]
          },
          "metadata": {
            "needs_background": "light"
          }
        }
      ]
    },
    {
      "cell_type": "code",
      "metadata": {
        "id": "rBGRFQraRGFx"
      },
      "source": [
        "# Descomentar para visualizar el esquema del árbol de decisión final, con valores óptimos\n",
        "\n",
        "# plt.figure(figsize = (40,38))\n",
        "# plot_tree(clasif, feature_names = fn, class_names = cn, filled = True, proportion = True);"
      ],
      "execution_count": 48,
      "outputs": []
    },
    {
      "cell_type": "code",
      "metadata": {
        "colab": {
          "base_uri": "https://localhost:8080/"
        },
        "id": "_Oosv9sEtVfB",
        "outputId": "fd2efc4c-f615-482a-e955-2b1896026211"
      },
      "source": [
        "#Concluiones\n",
        "\n",
        "print('El accuracy del árbol de decisión mejoró',\"{:.3f}\".format(accuracy_f - accuracy_i))\n",
        "print()\n",
        "print('El F1 del árbol de decisión mejoró',\"{:.3f}\".format(f1_f - f1_i))"
      ],
      "execution_count": 74,
      "outputs": [
        {
          "output_type": "stream",
          "name": "stdout",
          "text": [
            "El accuracy del árbol de decisión mejoró 0.140\n",
            "\n",
            "El F1 del árbol de decisión mejoró 0.302\n"
          ]
        }
      ]
    }
  ]
}