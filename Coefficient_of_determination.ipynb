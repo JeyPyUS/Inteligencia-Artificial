{
  "nbformat": 4,
  "nbformat_minor": 0,
  "metadata": {
    "colab": {
      "name": "Coefficient_of_determination",
      "provenance": [],
      "authorship_tag": "ABX9TyORu4wj2pkV+DXsj/auG750",
      "include_colab_link": true
    },
    "kernelspec": {
      "name": "python3",
      "display_name": "Python 3"
    },
    "language_info": {
      "name": "python"
    }
  },
  "cells": [
    {
      "cell_type": "markdown",
      "metadata": {
        "id": "view-in-github",
        "colab_type": "text"
      },
      "source": [
        "<a href=\"https://colab.research.google.com/github/JeyPyUS/Inteligencia-Artificial/blob/main/Coefficient_of_determination.ipynb\" target=\"_parent\"><img src=\"https://colab.research.google.com/assets/colab-badge.svg\" alt=\"Open In Colab\"/></a>"
      ]
    },
    {
      "cell_type": "code",
      "metadata": {
        "id": "X3pX8grZ_8-1"
      },
      "source": [
        "import numpy as np"
      ],
      "execution_count": 47,
      "outputs": []
    },
    {
      "cell_type": "code",
      "metadata": {
        "id": "USTwkcLzAJqF"
      },
      "source": [
        "datos = np.array([1, 1.5, 2, 2.5, 3, 3.5, 4, 4.5, 5, 5.5, 6])\n",
        "etiquetas = np.array([0.169610271922408, 0.283395812542308, 0.386358737510785, 0.470227872390909, 0.433281293764675, 0.600267648212653, 0.738338980436742, 0.790315020494445, 0.877464268422459, 0.84356446225183, 0.96443891694455]);\n",
        "t0=0.0467;\n",
        "t1=0.157;"
      ],
      "execution_count": 48,
      "outputs": []
    },
    {
      "cell_type": "code",
      "metadata": {
        "id": "7or0KI18CaVh"
      },
      "source": [
        "h_x = t0 + t1*datos\n",
        "etiquetas_media = etiquetas.mean()"
      ],
      "execution_count": 49,
      "outputs": []
    },
    {
      "cell_type": "code",
      "metadata": {
        "id": "vc0rdUIHCqv7"
      },
      "source": [
        "#Resultados\n",
        "CError = np.zeros(11)\n",
        "VarE = np.zeros(11)"
      ],
      "execution_count": 50,
      "outputs": []
    },
    {
      "cell_type": "code",
      "metadata": {
        "id": "BbWQTEnhAfxe"
      },
      "source": [
        "for i in range(len(etiquetas)):\n",
        "    CError[i] = pow(etiquetas[i]-h_x[i],2)\n",
        "    VarE[i] = pow(etiquetas[i]-etiquetas_media,2)\n"
      ],
      "execution_count": 51,
      "outputs": []
    },
    {
      "cell_type": "code",
      "metadata": {
        "colab": {
          "base_uri": "https://localhost:8080/"
        },
        "id": "jmQAYMsGDPrM",
        "outputId": "33b0ea43-9a09-4517-c8c5-d9eca1a1ede7"
      },
      "source": [
        "CError = CError.sum()\n",
        "VarE = VarE.sum()\n",
        "RCuadrado = 1-(CError/VarE)\n",
        "print(RCuadrado)"
      ],
      "execution_count": 52,
      "outputs": [
        {
          "output_type": "stream",
          "name": "stdout",
          "text": [
            "0.967891165887586\n"
          ]
        }
      ]
    }
  ]
}